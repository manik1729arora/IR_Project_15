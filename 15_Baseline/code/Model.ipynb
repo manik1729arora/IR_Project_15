{
 "cells": [
  {
   "attachments": {},
   "cell_type": "markdown",
   "metadata": {},
   "source": [
    "For one language English text and Shlokas "
   ]
  },
  {
   "cell_type": "code",
   "execution_count": 2,
   "metadata": {},
   "outputs": [],
   "source": [
    "import numpy as np\n",
    "from collections import Counter\n",
    "from nltk.corpus import stopwords\n",
    "from nltk.tokenize import word_tokenize\n",
    "from nltk.stem import PorterStemmer\n",
    "import string\n",
    "import pickle\n"
   ]
  },
  {
   "cell_type": "code",
   "execution_count": 3,
   "metadata": {},
   "outputs": [],
   "source": [
    "paras_e = open('Geeta_English.txt', encoding=\"UTF8\").read().split(\"\\n\")\n"
   ]
  },
  {
   "attachments": {},
   "cell_type": "markdown",
   "metadata": {},
   "source": [
    "#preprocessing"
   ]
  },
  {
   "cell_type": "code",
   "execution_count": 4,
   "metadata": {},
   "outputs": [],
   "source": [
    "def preprocess_text(text):\n",
    "   \n",
    "    tokens = word_tokenize(text.lower())\n",
    "\n",
    "    # Remove punctuations\n",
    "    tokens = [token for token in tokens if token not in string.punctuation]\n",
    "\n",
    "    # Remove stopwords\n",
    "    stop_words = set(stopwords.words('english'))\n",
    "    tokens = [token for token in tokens if token not in stop_words]\n",
    "\n",
    "    # Stem the words\n",
    "    stemmer = PorterStemmer()\n",
    "    tokens = [stemmer.stem(token) for token in tokens]\n",
    "\n",
    "    return tokens"
   ]
  },
  {
   "attachments": {},
   "cell_type": "markdown",
   "metadata": {},
   "source": [
    "Creating Posting list"
   ]
  },
  {
   "cell_type": "code",
   "execution_count": 5,
   "metadata": {},
   "outputs": [],
   "source": [
    "pos_list = {}\n",
    "for idx, para in enumerate(paras_e):\n",
    "    words = preprocess_text(para)\n",
    "    \n",
    "    for word in words:\n",
    "        if word in pos_list.keys():\n",
    "            if idx in pos_list[word].keys():\n",
    "                pos_list[word][idx] += 1\n",
    "            else:\n",
    "                pos_list[word][idx] = 1\n",
    "        else:\n",
    "            temp = {idx : 1}\n",
    "            pos_list[word] = temp.copy()"
   ]
  },
  {
   "cell_type": "code",
   "execution_count": 6,
   "metadata": {},
   "outputs": [],
   "source": [
    "file_path ='Geeta_English.txt'\n",
    "\n"
   ]
  },
  {
   "cell_type": "code",
   "execution_count": 7,
   "metadata": {},
   "outputs": [],
   "source": [
    "with open('posting_list.pickle', 'wb') as file:\n",
    "    pickle.dump(pos_list, file)"
   ]
  },
  {
   "attachments": {},
   "cell_type": "markdown",
   "metadata": {},
   "source": [
    "Implementing BM25"
   ]
  },
  {
   "cell_type": "code",
   "execution_count": 8,
   "metadata": {},
   "outputs": [],
   "source": [
    "def BM25(query, w_coll, l = 5, b = 0.75, k = 2):\n",
    "    q_tokens = preprocess_text(query)\n",
    "    lengths = {}\n",
    "    N = len(paras_e)\n",
    "    avg_len = 0\n",
    "    for idx, para in enumerate(paras_e):\n",
    "        lengths[idx] = len(para)             #cal no of words of each file\n",
    "        avg_len += lengths[idx]\n",
    "    avg_len /= N\n",
    "    #Calculate idf of each token\n",
    "    idf = {}\n",
    "    for word in np.unique(q_tokens):\n",
    "        if word in w_coll.keys():\n",
    "            df = len(w_coll[word].keys())\n",
    "        else:\n",
    "            df = 0\n",
    "        idf[word] = np.log((N - df + 0.5) / (df + 0.5))\n",
    "    score = {}\n",
    "    for idx, para in enumerate(paras_e):\n",
    "        s = 0\n",
    "        for word in np.unique(q_tokens):\n",
    "            tf = 0\n",
    "            if word in w_coll.keys() and idx in w_coll[word].keys():\n",
    "                tf = w_coll[word][idx]\n",
    "            s += idf[word] * (tf * (k + 1)) / (k*(1 - b + b*lengths[idx]/avg_len) + tf)\n",
    "        score[idx] = s\n",
    "    return sorted(score, key = score.get, reverse=True)[:l]"
   ]
  },
  {
   "attachments": {},
   "cell_type": "markdown",
   "metadata": {},
   "source": [
    "Checking search function for BM25 model Prototype"
   ]
  },
  {
   "cell_type": "code",
   "execution_count": 9,
   "metadata": {},
   "outputs": [],
   "source": [
    "slokas = open(\"Shlokas.txt\",encoding=\"UTF-8\").read().split(\"\\n\")"
   ]
  },
  {
   "cell_type": "code",
   "execution_count": 10,
   "metadata": {},
   "outputs": [],
   "source": [
    "def search(query, w_col, lang, l = 5):\n",
    "    \n",
    "    tokens = preprocess_text(query)\n",
    "    \n",
    "            \n",
    "    query = \" \".join(tokens)\n",
    "#     print(query)\n",
    "    indxs = BM25(query, w_col, l)\n",
    "    print(indxs)\n",
    "    if lang == 'e':\n",
    "        return [f'{slokas[idx]}{paras_e[idx]}' for idx in indxs], indxs\n",
    "   "
   ]
  },
  {
   "attachments": {},
   "cell_type": "markdown",
   "metadata": {},
   "source": [
    "Evaluation "
   ]
  },
  {
   "cell_type": "code",
   "execution_count": 11,
   "metadata": {},
   "outputs": [
    {
     "name": "stdout",
     "output_type": "stream",
     "text": [
      "[30, 0, 1, 2, 3]\n"
     ]
    },
    {
     "data": {
      "text/plain": [
       "(['तस्य सञ्जनयन्हर्षं कुरुवृद्धः पितामहः ।Our battle shows where Bhishma holds command,',\n",
       "  'धृतराष्ट्र उवाच । I',\n",
       "  'धर्मक्षेत्रे कुरुक्षेत्रे समवेता युयुत्सवः ।Dhritirashtra:',\n",
       "  'मामकाः पाण्डवाश्चैव किमकुर्वत सञ्जय ॥ Ranged thus for battle on the sacred plain--',\n",
       "  'सञ्जय उवाच ।On Kurukshetra--say, Sanjaya! say'],\n",
       " [30, 0, 1, 2, 3])"
      ]
     },
     "execution_count": 11,
     "metadata": {},
     "output_type": "execute_result"
    }
   ],
   "source": [
    "query =\"That gives itself to follow shows of sense\"\n",
    "search(query,pos_list,\"e\")"
   ]
  }
 ],
 "metadata": {
  "kernelspec": {
   "display_name": "Python 3",
   "language": "python",
   "name": "python3"
  },
  "language_info": {
   "codemirror_mode": {
    "name": "ipython",
    "version": 3
   },
   "file_extension": ".py",
   "mimetype": "text/x-python",
   "name": "python",
   "nbconvert_exporter": "python",
   "pygments_lexer": "ipython3",
   "version": "3.9.2"
  },
  "orig_nbformat": 4
 },
 "nbformat": 4,
 "nbformat_minor": 2
}
