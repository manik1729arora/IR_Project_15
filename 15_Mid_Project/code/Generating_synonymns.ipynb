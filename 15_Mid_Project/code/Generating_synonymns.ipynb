{
 "cells": [
  {
   "cell_type": "code",
   "execution_count": 3,
   "metadata": {},
   "outputs": [
    {
     "name": "stdout",
     "output_type": "stream",
     "text": [
      "Requirement already satisfied: pyiwn in c:\\python\\lib\\site-packages (0.0.5)\n",
      "Requirement already satisfied: requests in c:\\python\\lib\\site-packages (from pyiwn) (2.28.2)\n",
      "Requirement already satisfied: pandas in c:\\python\\lib\\site-packages (from pyiwn) (1.4.2)\n",
      "Requirement already satisfied: numpy>=1.18.5 in c:\\users\\amit malik\\appdata\\roaming\\python\\python39\\site-packages (from pandas->pyiwn) (1.20.2)\n",
      "Requirement already satisfied: python-dateutil>=2.8.1 in c:\\python\\lib\\site-packages (from pandas->pyiwn) (2.8.2)\n",
      "Requirement already satisfied: pytz>=2020.1 in c:\\python\\lib\\site-packages (from pandas->pyiwn) (2022.1)\n",
      "Requirement already satisfied: charset-normalizer<4,>=2 in c:\\python\\lib\\site-packages (from requests->pyiwn) (3.1.0)\n",
      "Requirement already satisfied: urllib3<1.27,>=1.21.1 in c:\\python\\lib\\site-packages (from requests->pyiwn) (1.26.15)\n",
      "Requirement already satisfied: certifi>=2017.4.17 in c:\\python\\lib\\site-packages (from requests->pyiwn) (2022.12.7)\n",
      "Requirement already satisfied: idna<4,>=2.5 in c:\\python\\lib\\site-packages (from requests->pyiwn) (2.10)\n",
      "Requirement already satisfied: six>=1.5 in c:\\users\\amit malik\\appdata\\roaming\\python\\python39\\site-packages (from python-dateutil>=2.8.1->pandas->pyiwn) (1.15.0)\n"
     ]
    }
   ],
   "source": [
    "! pip install pyiwn "
   ]
  },
  {
   "cell_type": "code",
   "execution_count": 4,
   "metadata": {},
   "outputs": [],
   "source": [
    "with open('gita_Hindi.txt', 'r', encoding='utf-8') as file:\n",
    "    stopwords = file.read()\n",
    "\n"
   ]
  },
  {
   "cell_type": "code",
   "execution_count": 5,
   "metadata": {},
   "outputs": [],
   "source": [
    "stopwords_list = stopwords.split(\"\\n\")\n"
   ]
  },
  {
   "cell_type": "code",
   "execution_count": 6,
   "metadata": {},
   "outputs": [],
   "source": [
    "import re\n",
    "\n",
    "pattern = re.compile(r'\\w+')\n",
    "words = pattern.findall(stopwords)"
   ]
  },
  {
   "cell_type": "code",
   "execution_count": 13,
   "metadata": {},
   "outputs": [],
   "source": [
    "synonyms = {}\n",
    "for word in words:\n",
    "    try:\n",
    "        synsets = iwn.synsets(word)\n",
    "        for synset in synsets:\n",
    "            for lemma in synset.lemmas():\n",
    "                syn_word = lemma.name()\n",
    "                if syn_word != word:\n",
    "                    synonyms.setdefault(word, set()).add(syn_word)\n",
    "    except Exception as e:\n",
    "        pass\n",
    "\n",
    "\n",
    "\n",
    "\n"
   ]
  },
  {
   "cell_type": "code",
   "execution_count": 14,
   "metadata": {},
   "outputs": [
    {
     "data": {
      "text/plain": [
       "{}"
      ]
     },
     "execution_count": 14,
     "metadata": {},
     "output_type": "execute_result"
    }
   ],
   "source": [
    "synonyms"
   ]
  }
 ],
 "metadata": {
  "kernelspec": {
   "display_name": "Python 3",
   "language": "python",
   "name": "python3"
  },
  "language_info": {
   "codemirror_mode": {
    "name": "ipython",
    "version": 3
   },
   "file_extension": ".py",
   "mimetype": "text/x-python",
   "name": "python",
   "nbconvert_exporter": "python",
   "pygments_lexer": "ipython3",
   "version": "3.9.2"
  },
  "orig_nbformat": 4
 },
 "nbformat": 4,
 "nbformat_minor": 2
}
